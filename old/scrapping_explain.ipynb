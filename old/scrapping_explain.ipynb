{
 "cells": [
  {
   "cell_type": "code",
   "execution_count": 1,
   "id": "e32d9888",
   "metadata": {},
   "outputs": [],
   "source": [
    "# !pip install --upgrade undetected-chromedriver\n",
    "\n",
    "import requests\n",
    "import time\n",
    "import pandas as pd\n",
    "from bs4 import BeautifulSoup\n",
    "from selenium import webdriver\n",
    "from selenium.webdriver import ActionChains\n",
    "from selenium.webdriver.support.ui import WebDriverWait\n",
    "from selenium.webdriver.support import expected_conditions as EC\n",
    "from selenium.webdriver.chrome.service import Service\n",
    "from selenium.webdriver.common.by import By\n",
    "from selenium.webdriver.common.keys import Keys\n",
    "from selenium.webdriver.chrome.options import Options\n",
    "import pandas as pd\n",
    "import numpy as np\n",
    "import warnings\n",
    "warnings.filterwarnings(\"ignore\")\n",
    "from selenium.webdriver.common.desired_capabilities import DesiredCapabilities\n",
    "import requests\n",
    "import undetected_chromedriver as uc"
   ]
  },
  {
   "cell_type": "markdown",
   "id": "1a74041d",
   "metadata": {},
   "source": [
    "## 2nd Milestone"
   ]
  },
  {
   "cell_type": "code",
   "execution_count": 2,
   "id": "962745cd",
   "metadata": {},
   "outputs": [],
   "source": [
    "data = pd.read_excel(\"data/merged.xlsx\")\n",
    "\n",
    "data[\"website\"] = \"\"\n",
    "data[\"full_address\"] = \"\"\n",
    "data[\"phone\"] = \"\""
   ]
  },
  {
   "cell_type": "code",
   "execution_count": 16,
   "id": "1dad6cfd",
   "metadata": {},
   "outputs": [
    {
     "name": "stderr",
     "output_type": "stream",
     "text": [
      "could not detect version_main.therefore, we are assuming it is chrome 108 or higher\n"
     ]
    },
    {
     "name": "stdout",
     "output_type": "stream",
     "text": [
      "0\n",
      "1\n",
      "2\n",
      "3\n",
      "4\n",
      "5\n",
      "6\n",
      "7\n",
      "8\n",
      "9\n",
      "65.94110560417175\n"
     ]
    }
   ],
   "source": [
    "import time\n",
    "\n",
    "start = time.time()\n",
    "\n",
    "\n",
    "driver = uc.Chrome(driver_executable_path=r\"chromedriver.exe\", headless=False, use_subprocess=False)\n",
    "for index, row in data.head(10).iterrows():\n",
    "    try:\n",
    "        if \"https://www.toasttab\" in row[\"Url\"]:\n",
    "            driver.get(row[\"Url\"])\n",
    "\n",
    "            soup = BeautifulSoup(driver.page_source, \"html.parser\")\n",
    "\n",
    "            add1 = \"\"\n",
    "            for el in soup.find(\"div\", {\"class\":\"address hidden-sm-down\"}).find_all(\"p\"):\n",
    "                add1 += el.text + \" \"\n",
    "#             print(add1)\n",
    "\n",
    "            try: tel = str(soup.find(\"img\", {\"alt\":\"phone icon\"}).parent.parent.get(\"href\")).replace(\"tel:\",\"\")\n",
    "            except: tel = \"\"\n",
    "#             print(tel)\n",
    "\n",
    "            try: website = soup.find(\"a\", string=\"Website\").get(\"href\")\n",
    "            except: website = \"\"\n",
    "#             print(website)\n",
    "\n",
    "            data.loc[index, [\"website\"]] = website\n",
    "            data.loc[index, [\"full_address\"]] = add1\n",
    "            data.loc[index, [\"phone\"]] = tel\n",
    "        else:\n",
    "            data.loc[index, [\"website\"]] = row[\"Url\"]\n",
    "    except: print(\"Skipped\", index)\n",
    "    print(index)\n",
    "    \n",
    "    if index %500:\n",
    "        data.to_excel(\"merged_file_additional_info.xlsx\", index=False)\n",
    "        \n",
    "end = time.time()\n",
    "print(end - start)"
   ]
  }
 ],
 "metadata": {
  "kernelspec": {
   "display_name": "Python 3 (ipykernel)",
   "language": "python",
   "name": "python3"
  },
  "language_info": {
   "codemirror_mode": {
    "name": "ipython",
    "version": 3
   },
   "file_extension": ".py",
   "mimetype": "text/x-python",
   "name": "python",
   "nbconvert_exporter": "python",
   "pygments_lexer": "ipython3",
   "version": "3.8.8"
  }
 },
 "nbformat": 4,
 "nbformat_minor": 5
}
